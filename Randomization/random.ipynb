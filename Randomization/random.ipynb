{
 "cells": [
  {
   "cell_type": "markdown",
   "metadata": {},
   "source": [
    "# Staring Randomization in python\n"
   ]
  },
  {
   "cell_type": "code",
   "execution_count": null,
   "metadata": {},
   "outputs": [],
   "source": [
    "## Here we are imporint random module\n",
    "import random\n",
    "## Randint is a keyword which is been used in random module which is used to generate a random number from given range. This can Only print Integer values inclusive of both upper and lowerbound\n",
    "random_number = random.randint(1,100)\n",
    "print(random_number)"
   ]
  },
  {
   "cell_type": "code",
   "execution_count": null,
   "metadata": {},
   "outputs": [],
   "source": [
    "## To generate a random number we use random.random() Here ge ran generate random floating values from 0 to 1 where 0<= X <1 , Means exclusive the upper bound\n",
    "\n",
    "random_0_to_1=random.random()\n",
    "print(random_0_to_1)"
   ]
  },
  {
   "cell_type": "code",
   "execution_count": null,
   "metadata": {},
   "outputs": [],
   "source": [
    "## To generate a random float number from a range inslucive the upper bound and lower boudn we can use random.uniform(a,b)\n",
    "\n",
    "random_float=random.uniform(1,100)\n",
    "print(random_float)"
   ]
  },
  {
   "cell_type": "markdown",
   "metadata": {},
   "source": [
    "## This is a Small Game where we can randomly generate heads and tails\n"
   ]
  },
  {
   "cell_type": "code",
   "execution_count": null,
   "metadata": {},
   "outputs": [],
   "source": [
    "random_guess=random.randint(1,2)\n",
    "print(random_guess)\n",
    "if random_guess==1:\n",
    "    print(\"Heads\")\n",
    "else:\n",
    "    print(\"Tails\")"
   ]
  },
  {
   "cell_type": "markdown",
   "metadata": {},
   "source": [
    "### Here I use another way to print a random item from a list in python\n"
   ]
  },
  {
   "cell_type": "code",
   "execution_count": null,
   "metadata": {},
   "outputs": [],
   "source": [
    "## To get a random number or ites from the list we can use random.choice(listname) in python this helps us to pick a random name or items from a list.\n",
    "name=[\"SId\", \"Em\",\"Tui\"]\n",
    "random_payer = random.choice(name)\n",
    "\n",
    "print(random_payer)"
   ]
  },
  {
   "cell_type": "code",
   "execution_count": null,
   "metadata": {},
   "outputs": [],
   "source": []
  }
 ],
 "metadata": {
  "kernelspec": {
   "display_name": "Python 3",
   "language": "python",
   "name": "python3"
  },
  "language_info": {
   "codemirror_mode": {
    "name": "ipython",
    "version": 3
   },
   "file_extension": ".py",
   "mimetype": "text/x-python",
   "name": "python",
   "nbconvert_exporter": "python",
   "pygments_lexer": "ipython3",
   "version": "3.12.4"
  }
 },
 "nbformat": 4,
 "nbformat_minor": 2
}
